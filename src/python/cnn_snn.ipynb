{
 "cells": [
  {
   "cell_type": "code",
   "execution_count": 29,
   "id": "c010356c",
   "metadata": {},
   "outputs": [],
   "source": [
    "import torch\n",
    "import torch.nn as nn\n",
    "import torch.nn.functional as F\n",
    "import torchvision\n",
    "import torchvision.transforms as transforms\n",
    "import snntorch as snn\n",
    "from snntorch import spikegen\n",
    "from torch.utils.data import DataLoader\n",
    "import numpy as np"
   ]
  },
  {
   "cell_type": "code",
   "execution_count": 2,
   "id": "d4feb747",
   "metadata": {},
   "outputs": [],
   "source": [
    "batch_size  = 80\n",
    "num_steps   = 5\n",
    "num_epochs  = 1\n",
    "lr          = 1e-3\n",
    "beta        = 0.9\n",
    "device      = torch.device(\"cuda\" if torch.cuda.is_available() else \"cpu\")"
   ]
  },
  {
   "cell_type": "code",
   "execution_count": 70,
   "id": "0def06fb",
   "metadata": {},
   "outputs": [],
   "source": [
    "class SimpleCNN(nn.Module):\n",
    "    def __init__(self, num_steps=20, num_filters=4):\n",
    "        super(SimpleCNN, self).__init__()\n",
    "        self.num_steps = num_steps\n",
    "        self.num_filters = num_filters\n",
    "        self.conv = nn.Conv2d(in_channels=1, out_channels=self.num_filters, kernel_size=3)\n",
    "        self.lif1 = snn.Leaky(beta=beta)\n",
    "        self.fc1 = nn.Linear(self.num_filters * 26 * 26, 256)  # MNIST image size (28x28) reduces to (26x26) after convolution\n",
    "        self.lif2 = snn.Leaky(beta=beta)\n",
    "        self.fc2 = nn.Linear(256, 10)  # MNIST image size (28x28) reduces to (26x26) after convolution\n",
    "        self.lif3 = snn.Leaky(beta=beta)\n",
    "\n",
    "    def forward(self, x):\n",
    "        # x: [B, 1, 28, 28] floats\n",
    "        spikes = spikegen.rate(x, num_steps=self.num_steps)  # [T, B, 1, 28, 28]\n",
    "        mem1 = self.lif1.init_leaky()\n",
    "        mem2 = self.lif2.init_leaky()\n",
    "        mem3 = self.lif3.init_leaky()\n",
    "\n",
    "        spk3_rec = []\n",
    "        mem3_rec = []\n",
    "\n",
    "        for t in range(self.num_steps):\n",
    "            spk1, mem1 = self.lif1(self.conv(spikes[t]), mem1)\n",
    "            spk1_flat  = spk1.view(x.size(0), -1)\n",
    "            spk2, mem2 = self.lif2(self.fc1(spk1_flat), mem2)\n",
    "            spk3, mem3 = self.lif3(self.fc2(spk2), mem3)\n",
    "\n",
    "            spk3_rec.append(spk3)\n",
    "            mem3_rec.append(mem3)\n",
    "\n",
    "        return torch.stack(spk3_rec, dim=0), torch.stack(mem3_rec, dim=0)\n",
    "\n",
    "cnn_model = SimpleCNN(num_steps=num_steps)\n"
   ]
  },
  {
   "cell_type": "code",
   "execution_count": 19,
   "id": "c62e4aff",
   "metadata": {},
   "outputs": [],
   "source": [
    "class FullyConnectedEquivalent(nn.Module):\n",
    "    def __init__(self, cnn_model, num_steps=20, num_filters=4):\n",
    "        super().__init__()\n",
    "        self.num_steps = num_steps\n",
    "        self.num_filters = num_filters\n",
    "        conv_w = cnn_model.conv.weight.data\n",
    "        conv_b = cnn_model.conv.bias.data\n",
    "        self.fc_equiv = nn.Linear(28*28, self.num_filters*26*26)\n",
    "\n",
    "        with torch.no_grad():\n",
    "            self.fc_equiv.weight.zero_()\n",
    "            self.fc_equiv.bias.zero_()\n",
    "\n",
    "            for oc in range(self.num_filters):\n",
    "                for ic in range(1):\n",
    "                    for i in range(26):\n",
    "                        for j in range(26):\n",
    "                            neuron_idx = oc*26*26 + i*26 + j\n",
    "                            for ki in range(3):\n",
    "                                for kj in range(3):\n",
    "                                    input_idx = (i+ki)*28 + (j+kj)\n",
    "                                    self.fc_equiv.weight[neuron_idx, input_idx] = conv_w[oc, ic, ki, kj]\n",
    "                bias_start = oc*26*26\n",
    "                bias_end = bias_start + 26*26\n",
    "                self.fc_equiv.bias[bias_start:bias_end] = conv_b[oc]\n",
    "        self.lif_equiv = snn.Leaky(beta=beta)\n",
    "        self.fc_final = cnn_model.fc\n",
    "        self.lif_final = snn.Leaky(beta=beta)\n",
    "\n",
    "    def forward(self, x):\n",
    "        # x: [B, 1, 28, 28] floats\n",
    "        spikes = spikegen.rate(x, num_steps=self.num_steps)  # [T, B, 1, 28, 28]\n",
    "        mem1 = self.lif_equiv.init_leaky()\n",
    "        mem2 = self.lif_final.init_leaky()\n",
    "\n",
    "        spk2_rec = []\n",
    "        mem2_rec = []\n",
    "\n",
    "        for t in range(self.num_steps):\n",
    "\n",
    "            x = spikes[t].view(x.size(0), -1)\n",
    "            # print(x.shape)\n",
    "            out1 = self.fc_equiv(x)\n",
    "            spk1, mem1 = self.lif_equiv(out1, mem1)\n",
    "            spk2, mem2 = self.lif_final(self.fc_final(spk1), mem2)\n",
    "\n",
    "            spk2_rec.append(spk2)\n",
    "            mem2_rec.append(mem2)\n",
    "\n",
    "        return torch.stack(spk2_rec, dim=0), torch.stack(mem2_rec, dim=0)\n",
    "\n",
    "\n"
   ]
  },
  {
   "cell_type": "code",
   "execution_count": 71,
   "id": "f4945c75",
   "metadata": {},
   "outputs": [],
   "source": [
    "transform = transforms.Compose([\n",
    "            transforms.Resize((28, 28)),\n",
    "            transforms.Grayscale(),\n",
    "            transforms.ToTensor(),\n",
    "            transforms.Normalize((0,), (1,))\n",
    "            ])\n",
    "train_ds = torchvision.datasets.MNIST(root='../data', train=True, transform=transform, download=True)\n",
    "test_ds  = torchvision.datasets.MNIST(root='../data', train=False, transform=transform, download=True)\n",
    "train_loader = DataLoader(train_ds, batch_size=batch_size, shuffle=True)\n",
    "test_loader  = DataLoader(test_ds,  batch_size=batch_size, shuffle=False)\n"
   ]
  },
  {
   "cell_type": "code",
   "execution_count": 72,
   "id": "82d59241",
   "metadata": {},
   "outputs": [
    {
     "name": "stdout",
     "output_type": "stream",
     "text": [
      "Epoch 1/1, Loss: 2.3582\n"
     ]
    }
   ],
   "source": [
    "conv_model = cnn_model\n",
    "optimizer  = torch.optim.Adam(conv_model.parameters(), lr=5e-4)\n",
    "criterion  = nn.CrossEntropyLoss()\n",
    "\n",
    "for epoch in range(num_epochs):\n",
    "    conv_model.train()\n",
    "    running_loss = 0.0\n",
    "    for data, targets in train_loader:\n",
    "        data, targets = data.to(device), targets.to(device)\n",
    "        optimizer.zero_grad()\n",
    "        spk_rec, mem_rec = conv_model(data)      # [T,B,10], [T,B,10]\n",
    "        # sum loss over timesteps on final-layer membrane\n",
    "        loss_val = sum(criterion(mem_rec[t], targets) for t in range(num_steps))\n",
    "        loss_val.backward()\n",
    "        optimizer.step()\n",
    "        running_loss += loss_val.item()\n",
    "\n",
    "    print(f\"Epoch {epoch+1}/{num_epochs}, Loss: {running_loss/len(train_loader):.4f}\")"
   ]
  },
  {
   "cell_type": "code",
   "execution_count": 73,
   "id": "9422f1aa",
   "metadata": {},
   "outputs": [
    {
     "name": "stdout",
     "output_type": "stream",
     "text": [
      "ConvSNN Test Accuracy: 90.89%\n"
     ]
    }
   ],
   "source": [
    "conv_model.eval()\n",
    "correct = total = 0\n",
    "with torch.no_grad():\n",
    "    for data, targets in test_loader:\n",
    "        data, targets = data.to(device), targets.to(device)\n",
    "        spk_rec, mem_rec = conv_model(data)\n",
    "        # classify via sum of spikes\n",
    "        preds = spk_rec.sum(dim=0).argmax(dim=1)\n",
    "        correct += (preds == targets).sum().item()\n",
    "        total   += data.size(0)\n",
    "print(f\"ConvSNN Test Accuracy: {100*correct/total:.2f}%\")"
   ]
  },
  {
   "cell_type": "code",
   "execution_count": 23,
   "id": "1ec11d1a",
   "metadata": {},
   "outputs": [
    {
     "name": "stdout",
     "output_type": "stream",
     "text": [
      "FCSNN Test Accuracy: 88.45%\n"
     ]
    }
   ],
   "source": [
    "\n",
    "fc_model = FullyConnectedEquivalent(conv_model,num_steps=num_steps)\n",
    "\n",
    "fc_model.eval()\n",
    "correct = total = 0\n",
    "with torch.no_grad():\n",
    "    for data, targets in test_loader:\n",
    "        data, targets = data.to(device), targets.to(device)\n",
    "        spk_rec, mem_rec = fc_model(data)\n",
    "        preds = spk_rec.sum(dim=0).argmax(dim=1)\n",
    "        correct += (preds == targets).sum().item()\n",
    "        total   += data.size(0)\n",
    "print(f\"FCSNN Test Accuracy: {100*correct/total:.2f}%\")"
   ]
  },
  {
   "cell_type": "code",
   "execution_count": 24,
   "id": "6f15182a",
   "metadata": {},
   "outputs": [
    {
     "data": {
      "image/png": "[encoded data removed]",
      "text/plain": [
       "<Figure size 720x720 with 1 Axes>"
      ]
     },
     "metadata": {},
     "output_type": "display_data"
    },
    {
     "name": "stdout",
     "output_type": "stream",
     "text": [
      "Percentage of weights that are zero: 98.85% of 2119936 weights\n"
     ]
    }
   ],
   "source": [
    "import matplotlib.pyplot as plt\n",
    "import numpy as np\n",
    "\n",
    "full_weight = fc_model.fc_equiv.weight.data.numpy()\n",
    "w = full_weight.flatten()\n",
    "\n",
    "plt.figure(facecolor='white',figsize=(10,10))\n",
    "plt.hist(w, bins=100)\n",
    "plt.show()\n",
    "\n",
    "percentage = float((w == 0).sum() / w.size)\n",
    "print(f\"Percentage of weights that are zero: {percentage:.2%} of {w.size} weights\")\n"
   ]
  },
  {
   "cell_type": "code",
   "execution_count": 25,
   "id": "32d76bb5",
   "metadata": {},
   "outputs": [
    {
     "data": {
      "image/png": "[encoded data removed]",
      "text/plain": [
       "<Figure size 720x360 with 1 Axes>"
      ]
     },
     "metadata": {},
     "output_type": "display_data"
    }
   ],
   "source": [
    "# np.stack(np.nonzero(full_weight))\n",
    "\n",
    "nonzero_indices = np.nonzero(full_weight)\n",
    "\n",
    "# Scatter plot of nonzero indices\n",
    "plt.figure(facecolor='white',figsize=(10,5))\n",
    "plt.scatter(nonzero_indices[1], nonzero_indices[0], c='blue', marker='s', s=100)\n",
    "\n",
    "plt.gca().invert_yaxis()  # optional: to match matrix indexing\n",
    "plt.title(\"Nonzero indices\")\n",
    "plt.xlabel(\"Column Index\")\n",
    "plt.ylabel(\"Row Index\")\n",
    "plt.grid(True)\n",
    "plt.show()"
   ]
  },
  {
   "cell_type": "code",
   "execution_count": 26,
   "id": "49f83adb",
   "metadata": {},
   "outputs": [
    {
     "data": {
      "image/png": "[encoded data removed]",
      "text/plain": [
       "<Figure size 720x720 with 2 Axes>"
      ]
     },
     "metadata": {},
     "output_type": "display_data"
    }
   ],
   "source": [
    "plt.figure(facecolor='white',figsize=(10,10))\n",
    "plt.imshow(full_weight != 0, cmap='gray_r', interpolation='none')\n",
    "\n",
    "plt.title(\"Nonzero elements (white = nonzero)\")\n",
    "plt.xlabel(\"Column Index\")\n",
    "plt.ylabel(\"Row Index\")\n",
    "plt.colorbar(label='Nonzero Indicator')\n",
    "plt.show()"
   ]
  },
  {
   "cell_type": "code",
   "execution_count": 27,
   "id": "d7b0fb63",
   "metadata": {},
   "outputs": [
    {
     "data": {
      "text/plain": [
       "(array([   1,    2,    3,  677,  678,  679, 1353, 1354, 1355, 2029, 2030,\n",
       "        2031]),)"
      ]
     },
     "execution_count": 27,
     "metadata": {},
     "output_type": "execute_result"
    }
   ],
   "source": [
    "np.nonzero(full_weight[:,3])"
   ]
  },
  {
   "cell_type": "code",
   "execution_count": 74,
   "id": "e2c7e161",
   "metadata": {},
   "outputs": [],
   "source": [
    "b = conv_model.conv.bias.data\n",
    "w = conv_model.conv.weight.data\n",
    "w = w.reshape(4,3,3).reshape(4,9)\n",
    "fw1 = conv_model.fc1.weight.data.T\n",
    "fb1 = conv_model.fc1.bias.data\n",
    "fw2 = conv_model.fc2.weight.data.T\n",
    "fb2 = conv_model.fc2.bias.data"
   ]
  },
  {
   "cell_type": "code",
   "execution_count": 75,
   "id": "74cc1532",
   "metadata": {},
   "outputs": [],
   "source": [
    "Q07_SCALE = 128.0\n",
    "Q07_MAX_FLOAT = 127 / 128.0    # 0.9921875\n",
    "Q07_MIN_FLOAT = -1.0\n",
    "Q07_MAX_INT8 = 127\n",
    "Q07_MIN_INT8 = -128\n",
    "\n",
    "def quantize_q07(x: float) -> int:\n",
    "    if x > Q07_MAX_FLOAT:\n",
    "        x = Q07_MAX_FLOAT\n",
    "    elif x < Q07_MIN_FLOAT:\n",
    "        x = Q07_MIN_FLOAT\n",
    "\n",
    "    scaled = int(x * Q07_SCALE + (0.5 if x >= 0 else -0.5))\n",
    "\n",
    "    if scaled > Q07_MAX_INT8:\n",
    "        scaled = Q07_MAX_INT8\n",
    "    elif scaled < Q07_MIN_INT8:\n",
    "        scaled = Q07_MIN_INT8\n",
    "\n",
    "    return np.int8(scaled)\n",
    "\n",
    "def quantize_tensor_q07(tensor: torch.Tensor):\n",
    "    tensor_np = tensor.detach().cpu().numpy()\n",
    "    quantized = np.vectorize(quantize_q07)(tensor_np).astype(np.int8)\n",
    "    return quantized"
   ]
  },
  {
   "cell_type": "code",
   "execution_count": 76,
   "id": "1236c03f",
   "metadata": {},
   "outputs": [],
   "source": [
    "qw = quantize_tensor_q07(w)\n",
    "qb = quantize_tensor_q07(b)\n",
    "qfw1 = quantize_tensor_q07(fw1)\n",
    "qfb1 = quantize_tensor_q07(fb1)\n",
    "qfw2 = quantize_tensor_q07(fw2)\n",
    "qfb2 = quantize_tensor_q07(fb2)\n"
   ]
  },
  {
   "cell_type": "code",
   "execution_count": 66,
   "id": "27783169",
   "metadata": {},
   "outputs": [],
   "source": [
    "import numpy as np\n",
    "\n",
    "\n",
    "out_channels = 4\n",
    "in_channels = 1\n",
    "input_height = 28\n",
    "input_width = 28\n",
    "output_height = 26\n",
    "output_width = 26\n",
    "kh = 3\n",
    "kw = 3\n",
    "\n",
    "cnn_weights = conv_model.conv.weight.data.numpy()\n",
    "\n",
    "output_dim = (output_height, output_width)\n",
    "input_dim = (input_height, input_width)\n",
    "\n",
    "sparse_entries = []\n",
    "\n",
    "for out_ch in range(out_channels):\n",
    "    for oy in range(output_dim[0]):\n",
    "        for ox in range(output_dim[1]):\n",
    "            fc_idx = (out_ch * output_dim[0] * output_dim[1]) + (oy * output_dim[1] + ox)\n",
    "            for in_ch in range(in_channels):\n",
    "                for ky in range(kh):\n",
    "                    for kx in range(kw):\n",
    "                        iy = oy + ky\n",
    "                        ix = ox + kx\n",
    "                        if iy < input_dim[0] and ix < input_dim[1]:\n",
    "                            input_idx = (in_ch * input_dim[0] * input_dim[1]) + (iy * input_dim[1] + ix)\n",
    "                            weight = cnn_weights[out_ch, in_ch, ky, kx]\n",
    "                            if weight != 0:\n",
    "                                sparse_entries.append((fc_idx, input_idx, quantize_q07(weight), weight))\n"
   ]
  },
  {
   "cell_type": "code",
   "execution_count": 67,
   "id": "0c502605",
   "metadata": {},
   "outputs": [],
   "source": [
    "def format_c_array(var_name: str, array: np.ndarray) -> str:\n",
    "    shape = array.shape\n",
    "    dims = ''.join([f\"[{d}]\" for d in shape])\n",
    "    result = f\"const int8_t {var_name}{dims} = {{\\n\"\n",
    "\n",
    "    if array.ndim == 1:\n",
    "        result += \"    { \" + ', '.join(str(v) for v in array) + \" }\\n\"\n",
    "    elif array.ndim == 2:\n",
    "        for row in array:\n",
    "            result += \"    { \" + ', '.join(str(v) for v in row) + \" },\\n\"\n",
    "    elif array.ndim == 3:\n",
    "        for mat in array:\n",
    "            result += \"    {\\n\"\n",
    "            for row in mat:\n",
    "                result += \"        { \" + ', '.join(str(v) for v in row) + \" },\\n\"\n",
    "            result += \"    },\\n\"\n",
    "    else:\n",
    "        raise ValueError(f\"Unsupported tensor dimension: {array.ndim}\")\n",
    "\n",
    "    result += \"};\\n\\n\"\n",
    "    return result"
   ]
  },
  {
   "cell_type": "code",
   "execution_count": null,
   "id": "c839c511",
   "metadata": {},
   "outputs": [],
   "source": [
    "dump_str = format_c_array(\"conv1_weights_col\", qw)\n",
    "dump_str += format_c_array(\"conv1_bias\", qb)\n",
    "dump_str += format_c_array(\"weights_fc1_data\", qfw1)\n",
    "dump_str += format_c_array(\"bias_fc1\", qfb1)\n",
    "dump_str += format_c_array(\"weights_fc2_data\", qfw2)\n",
    "dump_str += format_c_array(\"bias_fc2\", qfb2)\n",
    "\n",
    "with open(\"dump.c\", \"w\") as f:\n",
    "    f.write(dump_str)"
   ]
  },
  {
   "cell_type": "code",
   "execution_count": null,
   "id": "ed521b30",
   "metadata": {},
   "outputs": [
    {
     "ename": "NameError",
     "evalue": "name 'sparse_entries' is not defined",
     "output_type": "error",
     "traceback": [
      "\u001b[1;31m---------------------------------------------------------------------------\u001b[0m",
      "\u001b[1;31mNameError\u001b[0m                                 Traceback (most recent call last)",
      "Input \u001b[1;32mIn [48]\u001b[0m, in \u001b[0;36m<cell line: 1>\u001b[1;34m()\u001b[0m\n\u001b[0;32m      2\u001b[0m s \u001b[38;5;241m=\u001b[39m qw\u001b[38;5;241m.\u001b[39mshape\n\u001b[0;32m      3\u001b[0m f\u001b[38;5;241m.\u001b[39mwrite(\u001b[38;5;124m\"\u001b[39m\u001b[38;5;124mconst int8_t conv1_weights_col[CONV1_KERNEL_FLATTEN][CONV1_FILTERS] = \u001b[39m\u001b[38;5;124m{\u001b[39m\u001b[38;5;130;01m\\n\u001b[39;00m\u001b[38;5;124m\"\u001b[39m)\n\u001b[1;32m----> 4\u001b[0m \u001b[38;5;28;01mfor\u001b[39;00m fc_idx, input_idx, weight_q, weight \u001b[38;5;129;01min\u001b[39;00m \u001b[43msparse_entries\u001b[49m:\n\u001b[0;32m      5\u001b[0m     f\u001b[38;5;241m.\u001b[39mwrite(\u001b[38;5;124mf\u001b[39m\u001b[38;5;124m\"\u001b[39m\u001b[38;5;124m    \u001b[39m\u001b[38;5;130;01m{{\u001b[39;00m\u001b[38;5;132;01m{\u001b[39;00mfc_idx\u001b[38;5;132;01m}\u001b[39;00m\u001b[38;5;124m, \u001b[39m\u001b[38;5;132;01m{\u001b[39;00minput_idx\u001b[38;5;132;01m}\u001b[39;00m\u001b[38;5;124m, \u001b[39m\u001b[38;5;132;01m{\u001b[39;00mweight_q\u001b[38;5;132;01m}\u001b[39;00m\u001b[38;5;124m, \u001b[39m\u001b[38;5;132;01m{\u001b[39;00m\u001b[38;5;28mfloat\u001b[39m(weight)\u001b[38;5;132;01m}\u001b[39;00m\u001b[38;5;130;01m}}\u001b[39;00m\u001b[38;5;124m,\u001b[39m\u001b[38;5;130;01m\\n\u001b[39;00m\u001b[38;5;124m\"\u001b[39m)\n\u001b[0;32m      6\u001b[0m f\u001b[38;5;241m.\u001b[39mwrite(\u001b[38;5;124m\"\u001b[39m\u001b[38;5;124m};\u001b[39m\u001b[38;5;130;01m\\n\u001b[39;00m\u001b[38;5;124m\"\u001b[39m)\n",
      "\u001b[1;31mNameError\u001b[0m: name 'sparse_entries' is not defined"
     ]
    }
   ],
   "source": [
    "with open(\"dump.c\", \"w\") as f:\n",
    "    s = qw.shape\n",
    "    f.write(\"const int8_t conv1_weights_col[CONV1_KERNEL_FLATTEN][CONV1_FILTERS] = {\\n\")\n",
    "    for fc_idx, input_idx, weight_q, weight in sparse_entries:\n",
    "        f.write(f\"    {{{fc_idx}, {input_idx}, {weight_q}, {float(weight)}}},\\n\")\n",
    "    f.write(\"};\\n\")\n"
   ]
  },
  {
   "cell_type": "code",
   "execution_count": 44,
   "id": "42da3de2",
   "metadata": {},
   "outputs": [
    {
     "name": "stdout",
     "output_type": "stream",
     "text": [
      "OrderedDict([('conv.weight', tensor([[[[-0.0016, -0.1494,  0.3126],\n",
      "          [ 0.3662,  0.3455,  0.4259],\n",
      "          [-0.0464,  0.2728, -0.1025]]],\n",
      "\n",
      "\n",
      "        [[[-0.3710, -0.2955, -0.4754],\n",
      "          [-0.4216, -0.1778, -0.1020],\n",
      "          [ 0.0551, -0.3602, -0.4400]]],\n",
      "\n",
      "\n",
      "        [[[ 0.2250,  0.4007,  0.0857],\n",
      "          [ 0.2097,  0.4162,  0.0952],\n",
      "          [ 0.1277, -0.0933,  0.1264]]],\n",
      "\n",
      "\n",
      "        [[[ 0.0065,  0.3796, -0.1395],\n",
      "          [-0.2134, -0.2986,  0.0903],\n",
      "          [ 0.3003, -0.1985,  0.2722]]]])), ('conv.bias', tensor([ 0.0042,  0.4111,  0.2288, -0.0071])), ('lif1.threshold', tensor(1.)), ('lif1.graded_spikes_factor', tensor(1.)), ('lif1.reset_mechanism_val', tensor(0)), ('lif1.beta', tensor(0.9000)), ('fc.weight', tensor([[-0.0020, -0.0028, -0.0109,  ...,  0.0089, -0.0053,  0.0018],\n",
      "        [ 0.0163,  0.0050,  0.0013,  ...,  0.0008, -0.0185, -0.0123],\n",
      "        [ 0.0060,  0.0027, -0.0062,  ..., -0.0138, -0.0163,  0.0060],\n",
      "        ...,\n",
      "        [ 0.0159,  0.0009, -0.0051,  ...,  0.0017,  0.0067, -0.0117],\n",
      "        [ 0.0075,  0.0057, -0.0191,  ..., -0.0160,  0.0044,  0.0052],\n",
      "        [ 0.0075,  0.0013,  0.0054,  ..., -0.0286,  0.0031, -0.0188]])), ('fc.bias', tensor([-0.0435,  0.0590, -0.0224, -0.0217, -0.0085,  0.0555,  0.0045,  0.0443,\n",
      "        -0.0741, -0.0197])), ('lif2.threshold', tensor(1.)), ('lif2.graded_spikes_factor', tensor(1.)), ('lif2.reset_mechanism_val', tensor(0)), ('lif2.beta', tensor(0.9000))])\n"
     ]
    }
   ],
   "source": [
    "print(conv_model.state_dict())"
   ]
  }
 ],
 "metadata": {
  "kernelspec": {
   "display_name": "Python 3",
   "language": "python",
   "name": "python3"
  },
  "language_info": {
   "codemirror_mode": {
    "name": "ipython",
    "version": 3
   },
   "file_extension": ".py",
   "mimetype": "text/x-python",
   "name": "python",
   "nbconvert_exporter": "python",
   "pygments_lexer": "ipython3",
   "version": "3.10.4"
  }
 },
 "nbformat": 4,
 "nbformat_minor": 5
}
